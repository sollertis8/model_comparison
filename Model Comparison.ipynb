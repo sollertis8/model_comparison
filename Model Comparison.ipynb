{
 "cells": [
  {
   "cell_type": "code",
   "execution_count": 74,
   "metadata": {
    "collapsed": true
   },
   "outputs": [],
   "source": [
    "import math\n",
    "import warnings\n",
    "import pandas as pd\n",
    "from IPython.display import display\n",
    "from matplotlib import pyplot as plt\n",
    "import numpy as np\n",
    "from sklearn import linear_model\n",
    "import seaborn as sns\n",
    "from sklearn.metrics import confusion_matrix\n",
    "from sklearn.model_selection import train_test_split\n",
    "from sklearn import datasets\n",
    "from sklearn import svm\n",
    "from sklearn import neighbors\n",
    "from scipy import stats\n",
    "import statsmodels.formula.api as smf\n",
    "from statsmodels.sandbox.regression.predstd import wls_prediction_std\n",
    "%matplotlib inline\n",
    "pd.options.display.float_format = '{:.3f}'.format"
   ]
  },
  {
   "cell_type": "code",
   "execution_count": 99,
   "metadata": {
    "collapsed": false
   },
   "outputs": [
    {
     "name": "stdout",
     "output_type": "stream",
     "text": [
      "4      28799000 \n",
      "5      30476000 \n",
      "6      31578000 \n",
      "7      34887000 \n",
      "8      38641000 \n",
      "9      36402000 \n",
      "10     36803000 \n",
      "11     29640000 \n",
      "12     28673000 \n",
      "13     29099000 \n",
      "14     28322000 \n",
      "15     27073000 \n",
      "16     26972000 \n",
      "17     27446000 \n",
      "18     27920000 \n",
      "19     28510000 \n",
      "20     27678000 \n",
      "21     24780000 \n",
      "22     22796000 \n",
      "23     22235000 \n",
      "24     24906000 \n",
      "25     24881000 \n",
      "26     25591000 \n",
      "27     25518000 \n",
      "28     29246000 \n",
      "29     27838000 \n",
      "30     25431000 \n",
      "31     25545000 \n",
      "32     25998000 \n",
      "33     24888000 \n",
      "34     23168000 \n",
      "35     23963000 \n",
      "36     23819000 \n",
      "37     22805000 \n",
      "38     20862000 \n",
      "39     21688000 \n",
      "40     21688000 \n",
      "41     20881000 \n",
      "42     19492000 \n",
      "43     18103000 \n",
      "Name: Flight_Hours, dtype: object\n"
     ]
    }
   ],
   "source": [
    "data = pd.read_csv('aviation_accidents.csv', encoding='iso-8859-1', sep=None, thousands=',', engine='python')[4:44]\n",
    "data = data.drop(['Unnamed: 8', 'Unnamed: 9'], 1)\n",
    "data.columns = ['Year', 'Accidents(All)', 'Accidents(Fatal)', 'Fatalities(Total)', 'Fatalities(Aboard)',\n",
    "               'Flight_Hours', 'Acdnts_per_100k_Flt_Hrs', 'Fatalities_per_100k_Flt_Hrs']\n",
    "\n",
    "data = data.replace(['-', ' - '], np.nan)\n",
    "\n",
    "year = data['Year']\n",
    "accidents_all = data['Accidents(All)']\n",
    "accidents_fatal = data['Accidents(Fatal)']\n",
    "fatalities_total = data['Fatalities(Total)']\n",
    "fatalities_aboard = data['Fatalities(Aboard)']\n",
    "flight_hours = data['Flight_Hours'].replace([np.nan, data['Flight_Hours'].astype(float).mean()], inplace=True)\n",
    "\n",
    "features = pd.get_dummies(accidents_all)\n",
    "features['Flight_Hours'] = flight_hours\n",
    "# features = pd.get_dummies(accidents_all)\n",
    "\n",
    "# features['Accidents'] = accidents_all\n",
    "\n",
    "\n",
    "# print(data)\n",
    "# print(features['Flight_Hours'])\n",
    "print(data['Flight_Hours'])"
   ]
  },
  {
   "cell_type": "code",
   "execution_count": 98,
   "metadata": {
    "collapsed": false
   },
   "outputs": [],
   "source": [
    "knn = neighbors.KNeighborsRegressor(n_neighbors=10)\n",
    "X = data['Flight_Hours']\n",
    "Y = fatalities_total\n",
    "# knn.fit(X, Y)\n",
    "\n",
    "# Set up our prediction line.\n",
    "# T = np.arange(0, 50, 0.1)[:, np.newaxis]\n",
    "\n",
    "# Trailing underscores are a common convention for a prediction.\n",
    "# Y_ = knn.predict(T)\n",
    "\n",
    "# plt.scatter(X, Y, c='k', label='data')\n",
    "# plt.plot(T, Y_, c='g', label='prediction')\n",
    "# plt.legend()\n",
    "# plt.title('K=10, Unweighted')\n",
    "# plt.show()"
   ]
  }
 ],
 "metadata": {
  "kernelspec": {
   "display_name": "Python 3",
   "language": "python",
   "name": "python3"
  },
  "language_info": {
   "codemirror_mode": {
    "name": "ipython",
    "version": 3
   },
   "file_extension": ".py",
   "mimetype": "text/x-python",
   "name": "python",
   "nbconvert_exporter": "python",
   "pygments_lexer": "ipython3",
   "version": "3.6.0"
  }
 },
 "nbformat": 4,
 "nbformat_minor": 2
}
